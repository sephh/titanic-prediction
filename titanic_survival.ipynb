{
 "cells": [
  {
   "cell_type": "code",
   "execution_count": 133,
   "metadata": {},
   "outputs": [],
   "source": [
    "import torch\n",
    "import torch.nn.functional as F\n",
    "import pandas as pd\n",
    "\n",
    "from torch import nn, optim\n",
    "\n",
    "\n",
    "# Prepare the data\n",
    "\n",
    "train_file = './train.csv'\n",
    "test_file = './test.csv'\n",
    "\n",
    "def prepare_data(data, test_sample=False):\n",
    "    persons = data[['PassengerId','Name','Age','Sex']]\n",
    "    data = pd.get_dummies(data.drop(columns=['Cabin','Ticket','Pclass']), columns=['Sex', 'Embarked']).fillna(0)\n",
    "    \n",
    "    features = data[['Age', 'SibSp', 'Parch', 'Fare', 'Sex_female','Sex_male', 'Embarked_C', 'Embarked_Q', 'Embarked_S']].copy()\n",
    "    features['Fare'] /= features['Fare'].max()\n",
    "    features['Age'] /= features['Age'].max()\n",
    "    features['Fare'] /= features['Fare'].max()\n",
    "    features['SibSp'] /= features['SibSp'].max()\n",
    "    \n",
    "    features = torch.tensor(features.values, dtype=torch.float)\n",
    "    persons = persons.values\n",
    "    \n",
    "    if(test_sample):\n",
    "        return zip(features, persons)\n",
    "    \n",
    "    targets = data['Survived']\n",
    "    targets = torch.tensor(targets.values, dtype=torch.int).view(-1,1)\n",
    "    \n",
    "    return zip(features, persons, targets)\n"
   ]
  },
  {
   "cell_type": "code",
   "execution_count": 134,
   "metadata": {},
   "outputs": [
    {
     "name": "stdout",
     "output_type": "stream",
     "text": [
      "tensor([0.2750, 0.1250, 0.0000, 0.0142, 0.0000, 1.0000, 0.0000, 0.0000, 1.0000]) tensor([0.4539, 0.0000, 0.0000, 0.0153, 0.0000, 1.0000, 0.0000, 1.0000, 0.0000])\n"
     ]
    }
   ],
   "source": [
    "train_data = prepare_data(pd.read_csv(train_file))\n",
    "test_data = prepare_data(pd.read_csv(test_file), True)\n",
    "\n",
    "train_f, train_person, train_t = list(train_data)[0]\n",
    "test_f, test_person = list(test_data)[0]\n",
    "\n",
    "print(train_f, test_f)"
   ]
  },
  {
   "cell_type": "code",
   "execution_count": 141,
   "metadata": {},
   "outputs": [],
   "source": [
    "class Classifier(nn.Module):\n",
    "    \n",
    "    def __init__(self):\n",
    "        super(Classifier, self).__init__()\n",
    "        \n",
    "        self.fc1 = nn.Linear(9, 6)\n",
    "        self.fc2 = nn.Linear(6, 3)\n",
    "        self.fc3 = nn.Linear(3, 2)\n",
    "        self.dropout = nn.Dropout(0.2)\n",
    "        \n",
    "    def forward(self, X):\n",
    "        X = self.dropout( F.relu( self.fc1(X) ) )\n",
    "        X = self.dropout( F.relu( self.fc2(X) ) )\n",
    "        X = self.dropout( F.softmax( self.fc3(X), dim=0 ) )\n",
    "        \n",
    "        return X\n",
    "    "
   ]
  },
  {
   "cell_type": "code",
   "execution_count": 142,
   "metadata": {},
   "outputs": [
    {
     "name": "stdout",
     "output_type": "stream",
     "text": [
      "tensor([0.3906, 0.8594], grad_fn=<MulBackward0>) tensor([0], dtype=torch.int32)\n"
     ]
    }
   ],
   "source": [
    "classifier = Classifier()\n",
    "logits = classifier(train_f)\n",
    "print(logits, train_t)"
   ]
  },
  {
   "cell_type": "code",
   "execution_count": null,
   "metadata": {},
   "outputs": [],
   "source": [
    "lr = 0.005\n",
    "\n",
    "def train(target, person_tensor):\n",
    "    \"\"\"\n",
    "        Training the data set\n",
    "        Params:\n",
    "            category_tensor: the expected category result\n",
    "            line_tensor: the line to training\n",
    "    \"\"\"\n",
    "    \n",
    "    classifier.zero_grad()\n",
    "    \n",
    "    output = classifier(person_tensor)\n",
    "\n",
    "    print(output, target)\n",
    "    loss = criterion(output, category_tensor)\n",
    "    loss.backward()\n",
    "    \n",
    "    # Add parameters' gradients to their values, multiplied by learning rate\n",
    "    for p in rnn.parameters():\n",
    "        p.data.add_(-lr, p.grad.data)\n",
    "    \n",
    "    return output, loss.item()"
   ]
  },
  {
   "cell_type": "code",
   "execution_count": null,
   "metadata": {},
   "outputs": [],
   "source": []
  },
  {
   "cell_type": "code",
   "execution_count": null,
   "metadata": {},
   "outputs": [],
   "source": []
  }
 ],
 "metadata": {
  "kernelspec": {
   "display_name": "Python 3",
   "language": "python",
   "name": "python3"
  },
  "language_info": {
   "codemirror_mode": {
    "name": "ipython",
    "version": 3
   },
   "file_extension": ".py",
   "mimetype": "text/x-python",
   "name": "python",
   "nbconvert_exporter": "python",
   "pygments_lexer": "ipython3",
   "version": "3.7.1"
  }
 },
 "nbformat": 4,
 "nbformat_minor": 2
}
